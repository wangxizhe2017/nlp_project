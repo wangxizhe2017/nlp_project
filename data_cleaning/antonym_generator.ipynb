{
 "cells": [
  {
   "cell_type": "code",
   "execution_count": 1,
   "metadata": {},
   "outputs": [],
   "source": [
    "import pandas as pd\n",
    "import numpy as np"
   ]
  },
  {
   "cell_type": "code",
   "execution_count": 105,
   "metadata": {},
   "outputs": [],
   "source": [
    "import nltk\n",
    "from nltk.corpus import wordnet as wn"
   ]
  },
  {
   "cell_type": "code",
   "execution_count": 2,
   "metadata": {},
   "outputs": [],
   "source": [
    "import sys\n",
    "sys.path.insert(0, '..')"
   ]
  },
  {
   "cell_type": "code",
   "execution_count": 143,
   "metadata": {},
   "outputs": [],
   "source": [
    "import csv"
   ]
  },
  {
   "cell_type": "code",
   "execution_count": 27,
   "metadata": {},
   "outputs": [],
   "source": [
    "f = open('train_sentence_5.txt', 'r')"
   ]
  },
  {
   "cell_type": "code",
   "execution_count": 28,
   "metadata": {},
   "outputs": [],
   "source": [
    "train_sentence_5 = list()"
   ]
  },
  {
   "cell_type": "code",
   "execution_count": 29,
   "metadata": {},
   "outputs": [],
   "source": [
    "for line in f:\n",
    "    train_sentence_5.append(line)"
   ]
  },
  {
   "cell_type": "code",
   "execution_count": 125,
   "metadata": {},
   "outputs": [],
   "source": [
    "def get_antonyms(word):\n",
    "    antonyms = []\n",
    "    for syn in wn.synsets(word): \n",
    "        for l in syn.lemmas(): \n",
    "            if l.antonyms(): \n",
    "                antonyms.append(l.antonyms()[0].name())\n",
    "    if len(antonyms) > 0:\n",
    "        return antonyms[0]"
   ]
  },
  {
   "cell_type": "code",
   "execution_count": 166,
   "metadata": {},
   "outputs": [],
   "source": [
    "def antonym_generator_main(line):\n",
    "    line = line.split('\\t')\n",
    "    left = line[0][2:-3].split(\"', '\")\n",
    "    right = line[1][2:-3].split(\"', '\")\n",
    "    zipped = zip(left, right)\n",
    "    new_line = list()\n",
    "    count = 0\n",
    "    for word in zipped:\n",
    "        if word[0] == 'n\\'t':\n",
    "            left.pop(word[0])\n",
    "            new_line.append(left)\n",
    "            break\n",
    "        elif word[1] == 'ADJ' or word[1] == 'ADV' and get_antonyms(word[0]):\n",
    "            count += 1\n",
    "            if count % 2 == 1:\n",
    "                new_line.append(get_antonyms(word[0]))\n",
    "            else:\n",
    "                new_line.append(word[0])\n",
    "        elif word[1] == 'V':\n",
    "            count += 1\n",
    "            if count %2 == 1:\n",
    "                new_line.append('not')\n",
    "                new_line.append(word[0])\n",
    "            else:\n",
    "                new_line.append(word[0])\n",
    "        else:\n",
    "            new_line.append(word[0])\n",
    "    return new_line"
   ]
  },
  {
   "cell_type": "code",
   "execution_count": 163,
   "metadata": {},
   "outputs": [],
   "source": [
    "returned = list()\n",
    "for line in train_sentence_5[:5]:\n",
    "    line = line.split('\\t')\n",
    "    left = line[0][2:-3].split(\"', '\")\n",
    "    right = line[1][2:-3].split(\"', '\")\n",
    "    zipped = zip(left, right)\n",
    "    new_line = list()\n",
    "    count = 0\n",
    "    for word in zipped:\n",
    "        if word[0] == 'n\\'t':\n",
    "            left.pop(word[0])\n",
    "            returned.append(left)\n",
    "            break\n",
    "        elif word[1] == 'ADJ' or word[1] == 'ADV' and get_antonyms(word[0]):\n",
    "            count += 1\n",
    "            if count % 2 == 1:\n",
    "                new_line.append(get_antonyms(word[0]))\n",
    "            else:\n",
    "                new_line.append(word[0])\n",
    "        elif word[1] == 'V':\n",
    "            count += 1\n",
    "            if count %2 == 1:\n",
    "                new_line.append('not')\n",
    "                new_line.append(word[0])\n",
    "            else:\n",
    "                new_line.append(word[0])\n",
    "        else:\n",
    "            new_line.append(word[0])\n",
    "    returned.append(new_line)"
   ]
  },
  {
   "cell_type": "code",
   "execution_count": 164,
   "metadata": {},
   "outputs": [
    {
     "name": "stdout",
     "output_type": "stream",
     "text": [
      "[['They', 'not', 'got', 'themselves', 'and', 'Dan', 'on', 'a', 'diet', ''], ['The', 'bike', 'frame', 'not', 'bent', 'and', 'Carrie', 'got', 'a', 'shallow', 'gash', 'on', 'her', 'leg', ''], ['Her', 'boyfriend', 'not', 'was', 'upset', 'he', 'not', 'did\\', \"n\\'t\", \\'propose', 'to', 'her', 'first', ''], ['unfortunately', ',', 'her', 'coworker', 'intervened', 'and', 'not', 'calmed', 'the', 'man', 'down', ''], ['She', 'not', 'asked', 'if', 'we', 'can', 'not', 'hang', 'out', 'tomorrow', '']]\n"
     ]
    }
   ],
   "source": [
    "print(returned[:5])"
   ]
  },
  {
   "cell_type": "code",
   "execution_count": 146,
   "metadata": {},
   "outputs": [],
   "source": [
    "# with open(\"antonym_sentences.csv\", \"w\", newline=\"\") as f:\n",
    "#     writer = csv.writer(f)\n",
    "#     writer.writerows(returned)"
   ]
  },
  {
   "cell_type": "code",
   "execution_count": 147,
   "metadata": {},
   "outputs": [],
   "source": [
    "with open(\"file.txt\", \"w\") as output:\n",
    "    output.write(str(returned))"
   ]
  },
  {
   "cell_type": "code",
   "execution_count": 171,
   "metadata": {},
   "outputs": [
    {
     "ename": "TypeError",
     "evalue": "'str' object cannot be interpreted as an integer",
     "output_type": "error",
     "traceback": [
      "\u001b[0;31m---------------------------------------------------------------------------\u001b[0m",
      "\u001b[0;31mTypeError\u001b[0m                                 Traceback (most recent call last)",
      "\u001b[0;32m<ipython-input-171-3aa91d6acd33>\u001b[0m in \u001b[0;36m<module>\u001b[0;34m\u001b[0m\n\u001b[0;32m----> 1\u001b[0;31m \u001b[0mantonym_generator_main\u001b[0m\u001b[0;34m(\u001b[0m\u001b[0;34m\"['Her', 'boyfriend', 'was', 'upset', 'he', 'did', 'n\\'t', 'propose', 'to', 'her', 'first', '.'] ['OTHER', 'OTHER', 'V', 'V', 'OTHER', 'V', 'ADV', 'V', 'OTHER', 'OTHER', 'ADV', 'OTHER']\"\u001b[0m\u001b[0;34m)\u001b[0m\u001b[0;34m\u001b[0m\u001b[0;34m\u001b[0m\u001b[0m\n\u001b[0m",
      "\u001b[0;32m<ipython-input-166-a3ac23af0b00>\u001b[0m in \u001b[0;36mantonym_generator_main\u001b[0;34m(line)\u001b[0m\n\u001b[1;32m      8\u001b[0m     \u001b[0;32mfor\u001b[0m \u001b[0mword\u001b[0m \u001b[0;32min\u001b[0m \u001b[0mzipped\u001b[0m\u001b[0;34m:\u001b[0m\u001b[0;34m\u001b[0m\u001b[0;34m\u001b[0m\u001b[0m\n\u001b[1;32m      9\u001b[0m         \u001b[0;32mif\u001b[0m \u001b[0mword\u001b[0m\u001b[0;34m[\u001b[0m\u001b[0;36m0\u001b[0m\u001b[0;34m]\u001b[0m \u001b[0;34m==\u001b[0m \u001b[0;34m'n\\'t'\u001b[0m\u001b[0;34m:\u001b[0m\u001b[0;34m\u001b[0m\u001b[0;34m\u001b[0m\u001b[0m\n\u001b[0;32m---> 10\u001b[0;31m             \u001b[0mleft\u001b[0m\u001b[0;34m.\u001b[0m\u001b[0mpop\u001b[0m\u001b[0;34m(\u001b[0m\u001b[0mword\u001b[0m\u001b[0;34m[\u001b[0m\u001b[0;36m0\u001b[0m\u001b[0;34m]\u001b[0m\u001b[0;34m)\u001b[0m\u001b[0;34m\u001b[0m\u001b[0;34m\u001b[0m\u001b[0m\n\u001b[0m\u001b[1;32m     11\u001b[0m             \u001b[0mnew_line\u001b[0m\u001b[0;34m.\u001b[0m\u001b[0mappend\u001b[0m\u001b[0;34m(\u001b[0m\u001b[0mleft\u001b[0m\u001b[0;34m)\u001b[0m\u001b[0;34m\u001b[0m\u001b[0;34m\u001b[0m\u001b[0m\n\u001b[1;32m     12\u001b[0m             \u001b[0;32mbreak\u001b[0m\u001b[0;34m\u001b[0m\u001b[0;34m\u001b[0m\u001b[0m\n",
      "\u001b[0;31mTypeError\u001b[0m: 'str' object cannot be interpreted as an integer"
     ]
    }
   ],
   "source": [
    "antonym_generator_main(\"['Her', 'boyfriend', 'was', 'upset', 'he', 'did', 'n\\'t', 'propose', 'to', 'her', 'first', '.']\t['OTHER', 'OTHER', 'V', 'V', 'OTHER', 'V', 'ADV', 'V', 'OTHER', 'OTHER', 'ADV', 'OTHER']\")"
   ]
  },
  {
   "cell_type": "code",
   "execution_count": 156,
   "metadata": {},
   "outputs": [
    {
     "name": "stdout",
     "output_type": "stream",
     "text": [
      "', 'this', 'good'\n"
     ]
    }
   ],
   "source": [
    "print(\"\\', 'this', 'good'\")"
   ]
  },
  {
   "cell_type": "code",
   "execution_count": 170,
   "metadata": {},
   "outputs": [
    {
     "name": "stdout",
     "output_type": "stream",
     "text": [
      "['Her', 'boyfriend', 'was', 'upset', 'he', 'did', 'n't', 'propose', 'to', 'her', 'first', '.']\t['OTHER', 'OTHER', 'V', 'V', 'OTHER', 'V', 'ADV', 'V', 'OTHER', 'OTHER', 'ADV', 'OTHER']\n"
     ]
    }
   ],
   "source": [
    "print(\"['Her', 'boyfriend', 'was', 'upset', 'he', 'did', 'n\\'t', 'propose', 'to', 'her', 'first', '.']\t['OTHER', 'OTHER', 'V', 'V', 'OTHER', 'V', 'ADV', 'V', 'OTHER', 'OTHER', 'ADV', 'OTHER']\")"
   ]
  },
  {
   "cell_type": "code",
   "execution_count": 172,
   "metadata": {},
   "outputs": [
    {
     "name": "stdout",
     "output_type": "stream",
     "text": [
      "[0 1 1 1 0 0 0 1 0 0 0 1 1 0 1 0 1 1 1 1 1 0 1 0 1 0 0 0 1 1 0 0 1 1 0 0 1\n",
      " 1 1 0 1 1 1 0 0 1 1 1 1 0 1 1 1 0 1 0 1 0 0 0 1 0 0 0 0 0 0 1 0 0 1 1 0 1\n",
      " 0 0 0 1 0 0 1 0 1 0 0 1 1 0 1 1 0 0 1 0 0 1 1 1 0 0]\n"
     ]
    }
   ],
   "source": [
    "print(np.random.randint(2, size=100))"
   ]
  },
  {
   "cell_type": "code",
   "execution_count": null,
   "metadata": {},
   "outputs": [],
   "source": []
  }
 ],
 "metadata": {
  "kernelspec": {
   "display_name": "Python 3",
   "language": "python",
   "name": "python3"
  },
  "language_info": {
   "codemirror_mode": {
    "name": "ipython",
    "version": 3
   },
   "file_extension": ".py",
   "mimetype": "text/x-python",
   "name": "python",
   "nbconvert_exporter": "python",
   "pygments_lexer": "ipython3",
   "version": "3.7.4"
  }
 },
 "nbformat": 4,
 "nbformat_minor": 4
}
